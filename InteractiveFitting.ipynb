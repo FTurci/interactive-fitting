{
 "cells": [
  {
   "cell_type": "code",
   "execution_count": 58,
   "metadata": {
    "collapsed": false
   },
   "outputs": [
    {
     "name": "stdout",
     "output_type": "stream",
     "text": [
      "Once deleted, variables cannot be recovered. Proceed (y/[n])? y\n",
      "Populating the interactive namespace from numpy and matplotlib\n"
     ]
    }
   ],
   "source": [
    "%reset\n",
    "import pylab as pl\n",
    "%pylab inline\n",
    "\n",
    "from IPython.html.widgets import interact, interactive, fixed\n",
    "from IPython.html import widgets\n",
    "from IPython.display import clear_output, display, HTML"
   ]
  },
  {
   "cell_type": "code",
   "execution_count": 67,
   "metadata": {
    "collapsed": false
   },
   "outputs": [
    {
     "name": "stdout",
     "output_type": "stream",
     "text": [
      "Fitted values:\n",
      "[ -2.03321040e-03   6.31282317e+00   9.41452452e+00]\n"
     ]
    },
    {
     "data": {
      "image/png": "[encoded data removed]",
      "text/plain": [
       "<matplotlib.figure.Figure at 0x10ea17890>"
      ]
     },
     "metadata": {},
     "output_type": "display_data"
    }
   ],
   "source": [
    "from scipy.optimize import curve_fit\n",
    "# read data\n",
    "xsample=pl.arange(10)\n",
    "ysample=2*xsample*2+pl.uniform(0,14, 10)+3*xsample\n",
    "# alternatively, use loadtxt\n",
    "# xsample,ysample=pl.loadtxt(\"filename\", usecols=[0,1])\n",
    "\n",
    "def plotfit(a=1,b=1,c=1):\n",
    "#     fitting function\n",
    "    def func(x,a=1,b=1,c=1):\n",
    "        return a*x**2+b*x+c\n",
    "#     giving the guesses in input\n",
    "    popt, pcov=curve_fit(func, xsample, ysample, p0=(a,b,c))\n",
    "    xnew=pl.linspace(xsample.min(), xsample.max(),100)\n",
    "    pl.plot(xnew,func(xnew,*popt))\n",
    "    #Plot original data\n",
    "    pl.plot(xsample,ysample,'o')\n",
    "    print \"Fitted values:\"\n",
    "    print popt\n",
    "\n",
    "i = interact(plotfit,\n",
    "         a=(0,100, 0.01),\n",
    "         b=(0.,10.,0.01),\n",
    "         c=(0., 1,0.01)   \n",
    "         )"
   ]
  },
  {
   "cell_type": "code",
   "execution_count": null,
   "metadata": {
    "collapsed": true
   },
   "outputs": [],
   "source": []
  }
 ],
 "metadata": {
  "kernelspec": {
   "display_name": "Python 2",
   "language": "python",
   "name": "python2"
  },
  "language_info": {
   "codemirror_mode": {
    "name": "ipython",
    "version": 2
   },
   "file_extension": ".py",
   "mimetype": "text/x-python",
   "name": "python",
   "nbconvert_exporter": "python",
   "pygments_lexer": "ipython2",
   "version": "2.7.9"
  }
 },
 "nbformat": 4,
 "nbformat_minor": 0
}
